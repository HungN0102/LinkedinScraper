{
 "cells": [
  {
   "cell_type": "code",
   "execution_count": 96,
   "id": "a1e3c4d7",
   "metadata": {},
   "outputs": [],
   "source": [
    "import pandas as pd\n",
    "import numpy as np\n",
    "import os\n",
    "import re"
   ]
  },
  {
   "cell_type": "code",
   "execution_count": 97,
   "id": "dc822614",
   "metadata": {},
   "outputs": [
    {
     "data": {
      "text/html": [
       "<div>\n",
       "<style scoped>\n",
       "    .dataframe tbody tr th:only-of-type {\n",
       "        vertical-align: middle;\n",
       "    }\n",
       "\n",
       "    .dataframe tbody tr th {\n",
       "        vertical-align: top;\n",
       "    }\n",
       "\n",
       "    .dataframe thead th {\n",
       "        text-align: right;\n",
       "    }\n",
       "</style>\n",
       "<table border=\"1\" class=\"dataframe\">\n",
       "  <thead>\n",
       "    <tr style=\"text-align: right;\">\n",
       "      <th></th>\n",
       "      <th>date</th>\n",
       "      <th>url</th>\n",
       "      <th>job_title</th>\n",
       "      <th>company</th>\n",
       "      <th>location</th>\n",
       "      <th>age</th>\n",
       "      <th>salary</th>\n",
       "      <th>job_details</th>\n",
       "    </tr>\n",
       "  </thead>\n",
       "  <tbody>\n",
       "    <tr>\n",
       "      <th>0</th>\n",
       "      <td>07/07/2022</td>\n",
       "      <td>https://www.glassdoor.co.uk/partner/jobListing...</td>\n",
       "      <td>Software Engineer</td>\n",
       "      <td>Karno Sound Limited</td>\n",
       "      <td>London, England</td>\n",
       "      <td>7d</td>\n",
       "      <td>NaN</td>\n",
       "      <td>We’re looking for a high-level software engine...</td>\n",
       "    </tr>\n",
       "    <tr>\n",
       "      <th>1</th>\n",
       "      <td>07/07/2022</td>\n",
       "      <td>https://www.glassdoor.co.uk/partner/jobListing...</td>\n",
       "      <td>Development Engineer – Software Developer</td>\n",
       "      <td>Metropolitan Police</td>\n",
       "      <td>Southwark, England</td>\n",
       "      <td>7d</td>\n",
       "      <td>£43K - £47K  (Employer Est.)</td>\n",
       "      <td>Development Engineer – Software Developer £43,...</td>\n",
       "    </tr>\n",
       "    <tr>\n",
       "      <th>2</th>\n",
       "      <td>07/07/2022</td>\n",
       "      <td>https://www.glassdoor.co.uk/partner/jobListing...</td>\n",
       "      <td>Full Stack Software Engineer</td>\n",
       "      <td>Freelancer.com</td>\n",
       "      <td>London, England</td>\n",
       "      <td>30d+</td>\n",
       "      <td>£35K - £60K  (Employer Est.)</td>\n",
       "      <td>Freelancer.com is the world's largest freelanc...</td>\n",
       "    </tr>\n",
       "    <tr>\n",
       "      <th>3</th>\n",
       "      <td>07/07/2022</td>\n",
       "      <td>https://www.glassdoor.co.uk/partner/jobListing...</td>\n",
       "      <td>Forward Deployed Software Engineer, New Grad -...</td>\n",
       "      <td>Palantir Technologies</td>\n",
       "      <td>London, England</td>\n",
       "      <td>3d</td>\n",
       "      <td>£92K - £137K  (Glassdoor Est.)</td>\n",
       "      <td>A World-Changing Company \\nAt Palantir, we’re ...</td>\n",
       "    </tr>\n",
       "    <tr>\n",
       "      <th>4</th>\n",
       "      <td>07/07/2022</td>\n",
       "      <td>https://www.glassdoor.co.uk/partner/jobListing...</td>\n",
       "      <td>Senior Software Engineer - London</td>\n",
       "      <td>Cado Security Ltd</td>\n",
       "      <td>London, England</td>\n",
       "      <td>30d+</td>\n",
       "      <td>£60K - £80K  (Employer Est.)</td>\n",
       "      <td>Why Cado Security: * We are building a softwar...</td>\n",
       "    </tr>\n",
       "  </tbody>\n",
       "</table>\n",
       "</div>"
      ],
      "text/plain": [
       "         date                                                url  \\\n",
       "0  07/07/2022  https://www.glassdoor.co.uk/partner/jobListing...   \n",
       "1  07/07/2022  https://www.glassdoor.co.uk/partner/jobListing...   \n",
       "2  07/07/2022  https://www.glassdoor.co.uk/partner/jobListing...   \n",
       "3  07/07/2022  https://www.glassdoor.co.uk/partner/jobListing...   \n",
       "4  07/07/2022  https://www.glassdoor.co.uk/partner/jobListing...   \n",
       "\n",
       "                                           job_title                company  \\\n",
       "0                                  Software Engineer    Karno Sound Limited   \n",
       "1          Development Engineer – Software Developer    Metropolitan Police   \n",
       "2                       Full Stack Software Engineer         Freelancer.com   \n",
       "3  Forward Deployed Software Engineer, New Grad -...  Palantir Technologies   \n",
       "4                  Senior Software Engineer - London      Cado Security Ltd   \n",
       "\n",
       "             location   age                          salary  \\\n",
       "0     London, England    7d                             NaN   \n",
       "1  Southwark, England    7d    £43K - £47K  (Employer Est.)   \n",
       "2     London, England  30d+    £35K - £60K  (Employer Est.)   \n",
       "3     London, England    3d  £92K - £137K  (Glassdoor Est.)   \n",
       "4     London, England  30d+    £60K - £80K  (Employer Est.)   \n",
       "\n",
       "                                         job_details  \n",
       "0  We’re looking for a high-level software engine...  \n",
       "1  Development Engineer – Software Developer £43,...  \n",
       "2  Freelancer.com is the world's largest freelanc...  \n",
       "3  A World-Changing Company \\nAt Palantir, we’re ...  \n",
       "4  Why Cado Security: * We are building a softwar...  "
      ]
     },
     "execution_count": 97,
     "metadata": {},
     "output_type": "execute_result"
    }
   ],
   "source": [
    "df = pd.read_csv(\"data/glassdoor_swe.csv\")\n",
    "df = df.drop_duplicates([\"job_title\",\"location\",\"salary\",\"job_details\"])\n",
    "df = df.dropna(subset=[\"job_details\"]).reset_index(drop=True)\n",
    "df.head()"
   ]
  },
  {
   "cell_type": "code",
   "execution_count": 98,
   "id": "3120425a",
   "metadata": {},
   "outputs": [],
   "source": [
    "def find_average(string):\n",
    "    try:\n",
    "        if \"hour\" not in string.lower():\n",
    "            string_list = re.findall('[\\d]+',string)\n",
    "            average = (int(string_list[0]) + int(string_list[1]))/2\n",
    "            average *= 1000\n",
    "        else:\n",
    "            average = np.nan\n",
    "    except:\n",
    "        average = np.nan\n",
    "    return average\n",
    "\n",
    "df[\"average salary\"] = df[\"salary\"].apply(find_average)"
   ]
  },
  {
   "cell_type": "code",
   "execution_count": 99,
   "id": "64c7933a",
   "metadata": {},
   "outputs": [
    {
     "data": {
      "text/plain": [
       "65694.26751592357"
      ]
     },
     "execution_count": 99,
     "metadata": {},
     "output_type": "execute_result"
    }
   ],
   "source": [
    "df[\"average salary\"].mean()"
   ]
  },
  {
   "cell_type": "code",
   "execution_count": 100,
   "id": "46376e68",
   "metadata": {},
   "outputs": [],
   "source": [
    "\n",
    "def get_tech(sents):\n",
    "    \"\"\"\n",
    "    Extracting all possible skills and put them into a string\n",
    "    \"\"\"\n",
    "    string = re.findall(r'\\b\\W?(SQL|Python|Power Bi|Tableau|R|Azure|Looker|Periscope|Alteryx|Java|Oracle|Hadoop|C\\+\\+|C#|Javascript|HTML|CSS|Golang|.NET|MySQL|PostgreSQL|Angular|Typescript|Ruby|PHP|Django|Node.js)\\W?\\b',sents,re.I)\n",
    "    string = [x.title() for x in string]\n",
    "    string = list(set(string))\n",
    "    string = ', '.join(string)\n",
    "    return(string)\n",
    "    \n",
    "df['skills'] = df['job_details'].apply(get_tech)"
   ]
  },
  {
   "cell_type": "code",
   "execution_count": 101,
   "id": "44ebe9a4",
   "metadata": {},
   "outputs": [],
   "source": [
    "# Puting all technical skills into a variable\n",
    "tech_skills = ['Sql','Python','Power Bi','Tableau','R','Azure', 'Looker', 'Periscope', 'Alteryx', 'Java', 'Oracle', 'Hadoop','C++','C#','Javascript','Html','Css','Golang','.Net','Mysql','Postgresql','Angular','Typescript','Ruby','Php','Django','Node.js']\n",
    "\n",
    "# Generating dummy variable, 1 if that skill exists, 0 if not\n",
    "for ts in tech_skills:\n",
    "    df[ts] = df['skills'].apply(lambda x: 1 if ts in x else 0)\n",
    "\n",
    "# Dropping skills column\n",
    "# df.drop('skills',axis=1,inplace=True)"
   ]
  },
  {
   "cell_type": "code",
   "execution_count": 103,
   "id": "cdfd1a98",
   "metadata": {},
   "outputs": [
    {
     "data": {
      "text/plain": [
       "4"
      ]
     },
     "execution_count": 103,
     "metadata": {},
     "output_type": "execute_result"
    }
   ],
   "source": [
    "df[\"Django\"].sum()"
   ]
  },
  {
   "cell_type": "code",
   "execution_count": null,
   "id": "56f045f1",
   "metadata": {},
   "outputs": [],
   "source": []
  }
 ],
 "metadata": {
  "kernelspec": {
   "display_name": "Python 3.9.12 ('webscraping')",
   "language": "python",
   "name": "python3"
  },
  "language_info": {
   "codemirror_mode": {
    "name": "ipython",
    "version": 3
   },
   "file_extension": ".py",
   "mimetype": "text/x-python",
   "name": "python",
   "nbconvert_exporter": "python",
   "pygments_lexer": "ipython3",
   "version": "3.9.12"
  },
  "vscode": {
   "interpreter": {
    "hash": "2180f74f1357bbdbeca28b3725545fa10adc2d8d22a7f8294eaa6adfb94873ba"
   }
  }
 },
 "nbformat": 4,
 "nbformat_minor": 5
}
